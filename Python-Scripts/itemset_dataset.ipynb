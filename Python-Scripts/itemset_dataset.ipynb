{
 "cells": [
  {
   "cell_type": "code",
   "execution_count": 38,
   "metadata": {},
   "outputs": [],
   "source": [
    "import pandas as pd\n",
    "from mlxtend.frequent_patterns import apriori"
   ]
  },
  {
   "cell_type": "code",
   "execution_count": 39,
   "metadata": {},
   "outputs": [],
   "source": [
    "HOME = 'arquivos_csv_ocorrencias_de_configuracoes/'\n",
    "PREFIX = 'configOccurrences-Detailed-'\n",
    "CSVs = ['allApps', 'CovidNow', 'nl-covid19', 'owntracks', 'SpaceXFollower', 'vocable-android']\n",
    "NUM_SENSORS = 8\n",
    "\n",
    "dfs = []\n",
    "for f in CSVs:\n",
    "    dfs.append(pd.read_csv(HOME + PREFIX + f + '.csv'))\n",
    "# dfs"
   ]
  },
  {
   "cell_type": "code",
   "execution_count": 40,
   "metadata": {},
   "outputs": [],
   "source": [
    "def mine_itemsets_and_save(df, output_csv_name):\n",
    "    fim = apriori(df, min_support=0.1, use_colnames=True)\n",
    "    fim['itemset_size'] = [len(s) for s in fim['itemsets']]\n",
    "    fim['itemsets'] = [set(s) for s in fim['itemsets']] # frozenset to set, list, etc\n",
    "    fim.sort_values(by=['support', 'itemset_size'], ascending=[False, True], inplace=True)\n",
    "    fim.to_csv(output_csv_name, index=False)\n"
   ]
  },
  {
   "cell_type": "code",
   "execution_count": 41,
   "metadata": {},
   "outputs": [],
   "source": [
    "for i in range(len(CSVs)):\n",
    "    mine_itemsets_and_save(dfs[i], 'itemsets_active_only_dataset_' + CSVs[i] + '.csv')"
   ]
  },
  {
   "cell_type": "code",
   "execution_count": 42,
   "metadata": {},
   "outputs": [],
   "source": [
    "dfs_inactive = []\n",
    "for df in dfs:\n",
    "    dfs_inactive.append(df.copy(deep=True))\n",
    "\n",
    "for df in dfs_inactive:\n",
    "    if len(df.columns) == NUM_SENSORS:\n",
    "        for i in range(len(df.columns)):\n",
    "            nc = df.columns[i] + '0'\n",
    "            df[nc] = [not b for b in df[df.columns[i]]]"
   ]
  },
  {
   "cell_type": "code",
   "execution_count": 43,
   "metadata": {},
   "outputs": [],
   "source": [
    "for i in range(len(CSVs)):\n",
    "    mine_itemsets_and_save(dfs_inactive[i], 'itemsets_in_active_dataset_' + CSVs[i] + '.csv')"
   ]
  },
  {
   "cell_type": "code",
   "execution_count": null,
   "metadata": {},
   "outputs": [],
   "source": []
  }
 ],
 "metadata": {
  "kernelspec": {
   "display_name": "Python 3",
   "language": "python",
   "name": "python3"
  },
  "language_info": {
   "codemirror_mode": {
    "name": "ipython",
    "version": 3
   },
   "file_extension": ".py",
   "mimetype": "text/x-python",
   "name": "python",
   "nbconvert_exporter": "python",
   "pygments_lexer": "ipython3",
   "version": "3.8.5"
  }
 },
 "nbformat": 4,
 "nbformat_minor": 4
}
